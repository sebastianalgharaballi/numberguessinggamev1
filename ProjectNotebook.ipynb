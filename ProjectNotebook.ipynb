{
 "cells": [
  {
   "cell_type": "markdown",
   "metadata": {},
   "source": [
    "# Project Description"
   ]
  },
  {
   "cell_type": "markdown",
   "metadata": {},
   "source": [
    "Welcome to the number guessing game!\n",
    "\n",
    "For my project, I built a random number guessing game with inputs for the player's name, varying levels of difficulty to choose from, and a tracker for ongoing wins. I used the \"random\" module that is built into Python in order to generate the random number a user is tasked to guess based on the difficulty that they so choose. I also included various hints that are given to the player during the act of guessing in order to ensure they have the fairest chance of winning games. However, guessing attempts are purposely limited based on the difficulty, so remember to guess smartly! I programmed the user interface of the game to be simple and easy to follow along with, also accounting for potential input errors that one may mistakenly enter. So, go ahead and give the game a try! I promise you, it is super addicting :). \n",
    "\n",
    "The game is called by using the main( ) function down below. Have fun!"
   ]
  },
  {
   "cell_type": "markdown",
   "metadata": {},
   "source": [
    "## Project Code\n",
    "\n",
    "If it makes sense for your project, you can have code and outputs here in the notebook as well."
   ]
  },
  {
   "cell_type": "code",
   "execution_count": 1,
   "metadata": {
    "scrolled": true
   },
   "outputs": [],
   "source": [
    "from my_module.functions import opening_message, greet_player, start_game, main"
   ]
  },
  {
   "cell_type": "code",
   "execution_count": 2,
   "metadata": {},
   "outputs": [],
   "source": [
    "import random as rand"
   ]
  },
  {
   "cell_type": "code",
   "execution_count": 3,
   "metadata": {
    "scrolled": true
   },
   "outputs": [
    {
     "name": "stdout",
     "output_type": "stream",
     "text": [
      "Hello! Welcome to my number guessing game.\n",
      "\n",
      "What is your name?sebastian\n",
      "\n",
      "Hi sebastian ! Good luck.\n",
      "\n",
      "Choose your number range! Type E for easy, M for medium, H for hard, or EXP for expert.e\n",
      "You have 5 tries to win!\n",
      "\n",
      "I know a number from 0 to 10. What is this number?\n",
      "Your guess: test\n",
      "Please enter an integer.\n",
      "Your guess: 1\n",
      "That is too high. Try again.\n",
      "Your guess: 1\n",
      "That is too high. Try again.\n",
      "Your guess: 1\n",
      "That is too high. Try again.\n",
      "Your guess: 1\n",
      "That is too high. Try again.\n",
      "Your guess: 1\n",
      "That is too high. Try again.\n",
      "Oh no! You ran out of guesses. The number I knew was 0 .\n",
      "Would you like to play again? Enter yes to continue or anything other than yes to quit.yes\n",
      "\n",
      "Choose your number range! Type E for easy, M for medium, H for hard, or EXP for expert.e\n",
      "You have 5 tries to win!\n",
      "\n",
      "I know a number from 0 to 10. What is this number?\n",
      "Your guess: 4\n",
      "That is too low. Try again.\n",
      "Your guess: 7\n",
      "Great job! You guessed it in 2 tries.\n",
      "You have won 1 games.\n",
      "Would you like to play again? Enter yes to continue or anything other than yes to quit.yes\n",
      "\n",
      "Choose your number range! Type E for easy, M for medium, H for hard, or EXP for expert.e\n",
      "You have 5 tries to win!\n",
      "\n",
      "I know a number from 0 to 10. What is this number?\n",
      "Your guess: 7\n",
      "That is too low. Try again.\n",
      "Your guess: 9\n",
      "Great job! You guessed it in 2 tries.\n",
      "You have won 2 games.\n",
      "Would you like to play again? Enter yes to continue or anything other than yes to quit.no\n"
     ]
    },
    {
     "data": {
      "text/plain": [
       "'Thank you for playing!'"
      ]
     },
     "execution_count": 3,
     "metadata": {},
     "output_type": "execute_result"
    }
   ],
   "source": [
    "main()"
   ]
  },
  {
   "cell_type": "code",
   "execution_count": 4,
   "metadata": {},
   "outputs": [
    {
     "name": "stdout",
     "output_type": "stream",
     "text": [
      "\u001b[1m============================= test session starts ==============================\u001b[0m\r\n",
      "platform darwin -- Python 3.9.7, pytest-6.2.4, py-1.10.0, pluggy-0.13.1\r\n",
      "rootdir: /Users/sebastian_a/Downloads/ProjectTemplate\r\n",
      "plugins: anyio-2.2.0\r\n",
      "\u001b[1mcollecting ... \u001b[0m\u001b[1m\r",
      "collected 4 items                                                              \u001b[0m\r\n",
      "\r\n",
      "my_module/test_functions.py \u001b[32m.\u001b[0m\u001b[32m.\u001b[0m\u001b[32m.\u001b[0m\u001b[32m.\u001b[0m\u001b[32m                                         [100%]\u001b[0m\r\n",
      "\r\n",
      "\u001b[32m============================== \u001b[32m\u001b[1m4 passed\u001b[0m\u001b[32m in 0.02s\u001b[0m\u001b[32m ===============================\u001b[0m\r\n"
     ]
    }
   ],
   "source": [
    "!pytest my_module/test_functions.py"
   ]
  },
  {
   "cell_type": "markdown",
   "metadata": {},
   "source": [
    "#### Extra Credit (*optional*)\n",
    "This is my first experience with Python and coding in general (I am a second-year COGS ML major and this is the first Python class I have taken). I challenged myself by choosing to do a project that was completely different from all of the assignments I completed this quarter, to go along with piecing together try, except, if, elif, and else statements (with while loops, which confused me a lot this quarter) in order to generate several parts of my game. I also went beyond the project testing requirements by self-teaching and trying to implement several monkeypatch tests that correspond to my code. A couple other elements that I challenged myself to complete was correctly initializing a main( ) game function and implementing the random module in correspondence with how I wanted my game to be built.  "
   ]
  }
 ],
 "metadata": {
  "kernelspec": {
   "display_name": "Python 3 (ipykernel)",
   "language": "python",
   "name": "python3"
  },
  "language_info": {
   "codemirror_mode": {
    "name": "ipython",
    "version": 3
   },
   "file_extension": ".py",
   "mimetype": "text/x-python",
   "name": "python",
   "nbconvert_exporter": "python",
   "pygments_lexer": "ipython3",
   "version": "3.9.7"
  }
 },
 "nbformat": 4,
 "nbformat_minor": 2
}
